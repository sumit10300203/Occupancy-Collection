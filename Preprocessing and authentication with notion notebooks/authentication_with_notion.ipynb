{
 "cells": [
  {
   "cell_type": "code",
   "execution_count": 8,
   "metadata": {},
   "outputs": [],
   "source": [
    "import pandas as pd\n",
    "import numpy as np\n",
    "import requests as re\n",
    "import json as js\n",
    "import time\n",
    "from bs4 import BeautifulSoup as bs\n",
    "import asyncio"
   ]
  },
  {
   "cell_type": "code",
   "execution_count": 2,
   "metadata": {},
   "outputs": [],
   "source": [
    "with open(\"authorization.json\") as f:\n",
    "    key = js.load(f)\n",
    "    NOTION_TOKEN = key[\"NOTION_TOKEN\"]\n",
    "    DATABASE_ID = key[\"DATABASE_ID\"]\n",
    "    headers = {\n",
    "    \"Authorization\": f\"Bearer {NOTION_TOKEN}\",\n",
    "    \"Content-Type\": \"application/json\",\n",
    "    \"Notion-Version\": \"2022-06-28\"}"
   ]
  },
  {
   "cell_type": "code",
   "execution_count": 11,
   "metadata": {},
   "outputs": [],
   "source": [
    "def create_page(data: dict):\n",
    "    create_url = \"https://api.notion.com/v1/pages\"\n",
    "    payload = {\"parent\": {\"database_id\": DATABASE_ID}, \"properties\": data}\n",
    "    res = re.post(create_url, headers=headers, json=payload)\n",
    "    return res\n",
    "\n",
    "user_key = \"squad7\"\n",
    "username = \"squad7\"\n",
    "pwd = \"squad7\"\n",
    "\n",
    "create_page({\"key\": {\"title\": [{\"text\": {\"content\": user_key}}]}, \"name\": {\"rich_text\": [{\"text\": {\"content\": username}}]}, \"password\": {\"rich_text\": [{\"text\": {\"content\": pwd}}]}})"
   ]
  },
  {
   "cell_type": "code",
   "execution_count": 78,
   "metadata": {},
   "outputs": [],
   "source": [
    "def get_pages(filter_username = None, num_pages=None):\n",
    "    url = f\"https://api.notion.com/v1/databases/{DATABASE_ID}/query\"\n",
    "\n",
    "    get_all = num_pages is None\n",
    "    page_size = 100 if get_all else num_pages\n",
    "\n",
    "    if filter_username:\n",
    "        payload = {\"page_size\": page_size, 'filter': {'property': 'name', 'rich_text': {'contains': filter_username}}}\n",
    "    else:\n",
    "        payload = {\"page_size\": page_size}\n",
    "    response = re.post(url, json=payload, headers=headers)\n",
    "\n",
    "    data = response.json()\n",
    "\n",
    "    results = data[\"results\"]\n",
    "    while data[\"has_more\"] and get_all:\n",
    "        payload = {\"page_size\": page_size, \"start_cursor\": data[\"next_cursor\"]}\n",
    "        url = f\"https://api.notion.com/v1/databases/{DATABASE_ID}/query\"\n",
    "        response = re.post(url, json=payload, headers=headers)\n",
    "        data = response.json()\n",
    "        results.extend(data[\"results\"])\n",
    "\n",
    "    return results"
   ]
  },
  {
   "cell_type": "code",
   "execution_count": 91,
   "metadata": {},
   "outputs": [],
   "source": [
    "key = []\n",
    "names = []\n",
    "password = []\n",
    "for page in get_pages():\n",
    "    key.append(page['properties']['key']['title'][0]['text']['content'])\n",
    "    names.append(page['properties']['name']['rich_text'][0]['text']['content'])\n",
    "    password.append(page['properties']['password']['rich_text'][0]['text']['content'])"
   ]
  }
 ],
 "metadata": {
  "kernelspec": {
   "display_name": "Python 3",
   "language": "python",
   "name": "python3"
  },
  "language_info": {
   "codemirror_mode": {
    "name": "ipython",
    "version": 3
   },
   "file_extension": ".py",
   "mimetype": "text/x-python",
   "name": "python",
   "nbconvert_exporter": "python",
   "pygments_lexer": "ipython3",
   "version": "3.11.4"
  },
  "orig_nbformat": 4
 },
 "nbformat": 4,
 "nbformat_minor": 2
}
