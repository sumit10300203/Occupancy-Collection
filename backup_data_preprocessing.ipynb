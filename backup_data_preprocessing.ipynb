{
 "cells": [
  {
   "cell_type": "code",
   "execution_count": 121,
   "metadata": {},
   "outputs": [],
   "source": [
    "import pandas as pd\n",
    "import numpy as np\n",
    "from datetime import datetime\n",
    "import time\n",
    "from pytz import timezone"
   ]
  },
  {
   "cell_type": "code",
   "execution_count": 293,
   "metadata": {},
   "outputs": [],
   "source": [
    "occupancy_data = pd.read_csv(\"C:/Users/prita/Downloads/Occupancy_2023-08-16_13_38_51.csv\", usecols = ['Date', 'Time Entered', 'Last Modified', 'Occupancy'])\n",
    "occupancy_data['Time Entered'] = pd.to_datetime(occupancy_data['Date'] + ' ' + occupancy_data['Time Entered'])\n",
    "occupancy_data['Last Modified'] = pd.to_datetime(occupancy_data['Date'] + ' ' + occupancy_data['Last Modified'])\n",
    "occupancy_data.drop(['Date'], axis = 1, inplace = True)\n",
    "occupancy_data.set_index('Time Entered', drop = True, inplace = True)\n",
    "occupancy_data.to_csv(\"Occupancy_check.csv\")"
   ]
  },
  {
   "cell_type": "code",
   "execution_count": 289,
   "metadata": {},
   "outputs": [],
   "source": [
    "sensor_data = pd.read_csv(\"C:/Users/prita/Downloads/08161053.CSV\", usecols = ['Date', 'Time', 'CO (ppm)', 'NO2 (ppm)', 'CO2 (ppm)', 'TVOC (ppb)', \n",
    "                                                                              'PM1 (ug/m3)', 'PM2.5 (ug/m3)', 'PM10 (ug/m3)', 'Temperature (C)',\n",
    "                                                                              'Humidity (%)', 'Sound (dB)'], parse_dates=[['Date', 'Time']])\n",
    "occupancy_data = pd.read_csv(\"C:/Users/prita/Downloads/Occupancy_2023-08-16_13_38_51.csv\", usecols = ['Date', 'Time Entered', 'Occupancy'])\n",
    "\n",
    "sensor_data.rename({\"Date_Time\": \"Timestamp\"}, axis = 1, inplace = True)\n",
    "sensor_data.set_index(\"Timestamp\", drop = True, inplace = True)\n",
    "\n",
    "occupancy_data['Time Entered'] = pd.to_datetime(occupancy_data['Date'] + ' ' + occupancy_data['Time Entered'])\n",
    "occupancy_data.drop(['Date'], axis = 1, inplace = True)\n",
    "occupancy_data.set_index('Time Entered', drop = True, inplace = True)\n",
    "# occupancy_data = occupancy_data.asfreq(freq='S', fill_value = 0)\n",
    "occupancy_data['Occupancy'] = occupancy_data['Occupancy'].cumsum()\n",
    "\n",
    "merged_df = sensor_data.join(occupancy_data, how = \"outer\")\n",
    "merged_df['Occupancy'].fillna(method=\"ffill\", inplace = True)\n",
    "merged_df.dropna(how = 'any', inplace = True)\n",
    "merged_df.to_csv(\"C:/Users/prita/Downloads/test.csv\")"
   ]
  },
  {
   "cell_type": "code",
   "execution_count": 285,
   "metadata": {},
   "outputs": [],
   "source": [
    "sensor_data = pd.read_csv(\"C:/Users/prita/Downloads/08161053.CSV\", usecols = ['Date', 'Time', 'CO (ppm)', 'NO2 (ppm)', 'CO2 (ppm)', 'TVOC (ppb)', \n",
    "                                                                              'PM1 (ug/m3)', 'PM2.5 (ug/m3)', 'PM10 (ug/m3)', 'Temperature (C)',\n",
    "                                                                              'Humidity (%)', 'Sound (dB)'], parse_dates=[['Date', 'Time']])\n",
    "occupancy_data = pd.read_csv(\"C:/Users/prita/Downloads/Occupancy_2023-08-16_13_38_51.csv\", usecols = ['Time Entered', 'Occupancy'])\n",
    "\n",
    "sensor_data.rename({\"Date_Time\": \"Timestamp\"}, axis = 1, inplace = True)\n",
    "sensor_data.set_index(\"Timestamp\", drop = True, inplace = True)\n",
    "\n",
    "occupancy_data['Time Entered'] = pd.to_datetime(occupancy_data['Time Entered'])\n",
    "occupancy_data.set_index('Time Entered', drop = True, inplace = True)\n",
    "# occupancy_data = occupancy_data.asfreq(freq='S', method = 'ffill', fill_value = 0)\n",
    "\n",
    "merged_df = sensor_data.join(occupancy_data, how = \"outer\")\n",
    "merged_df['Occupancy'].fillna(method=\"ffill\", inplace = True)\n",
    "merged_df.dropna(how = 'any', inplace = True)\n",
    "merged_df.to_csv(\"C:/Users/prita/Downloads/test.csv\")"
   ]
  }
 ],
 "metadata": {
  "kernelspec": {
   "display_name": "Python 3",
   "language": "python",
   "name": "python3"
  },
  "language_info": {
   "codemirror_mode": {
    "name": "ipython",
    "version": 3
   },
   "file_extension": ".py",
   "mimetype": "text/x-python",
   "name": "python",
   "nbconvert_exporter": "python",
   "pygments_lexer": "ipython3",
   "version": "3.11.4"
  },
  "orig_nbformat": 4
 },
 "nbformat": 4,
 "nbformat_minor": 2
}
